{
 "cells": [
  {
   "cell_type": "code",
   "execution_count": 1,
   "metadata": {},
   "outputs": [
    {
     "name": "stdout",
     "output_type": "stream",
     "text": [
      "hello world\n"
     ]
    }
   ],
   "source": [
    "print('hello world')\n"
   ]
  },
  {
   "cell_type": "code",
   "execution_count": null,
   "metadata": {},
   "outputs": [],
   "source": [
    "# variable = a container for a value\n"
   ]
  },
  {
   "cell_type": "code",
   "execution_count": null,
   "metadata": {},
   "outputs": [
    {
     "name": "stdout",
     "output_type": "stream",
     "text": [
      "Hello World, my name is Pavel Golubev and I am 24 years old\n",
      "Hello world, my name is Pavel Golubev and I am 24 years old\n"
     ]
    }
   ],
   "source": [
    "first_name = \"Pavel\" \n",
    "\n",
    "second_name = \"Golubev\" #string (any set of characters)\n",
    "\n",
    "age = 24 #integer (a number)\n",
    "\n",
    "has_yachts = False #boolean (True, False)\n",
    "\n",
    "price_of_gas = 2.11 #that hurts\n",
    "\n",
    "full_name = first_name + \" \" + second_name\n",
    "\n",
    "print(\"Hello World, my name is\", full_name, \"and I am\", age, \"years old\")\n",
    "\n",
    "# string interpolation\n",
    "print(f\"Hello world, my name is {full_name} and I am {age} years old\") # f = format string\n",
    "\n"
   ]
  },
  {
   "cell_type": "code",
   "execution_count": null,
   "metadata": {},
   "outputs": [
    {
     "name": "stdout",
     "output_type": "stream",
     "text": [
      "35\n",
      "-15\n",
      "250\n",
      "3.3333333333333335\n",
      "2.0\n",
      "3\n"
     ]
    }
   ],
   "source": [
    "#arithmetic operators\n",
    "\n",
    "a = 10\n",
    "b = 25\n",
    "c = 3\n",
    "d = 5\n",
    "\n",
    "print(a + b)\n",
    "print(a - b)\n",
    "print(a * b)\n",
    "print(a / c) #result is always a float\n",
    "print(a / d)\n",
    "print(a // c) #no significant digits\n",
    "\n"
   ]
  },
  {
   "cell_type": "code",
   "execution_count": 2,
   "metadata": {},
   "outputs": [
    {
     "name": "stdout",
     "output_type": "stream",
     "text": [
      "2.35\n"
     ]
    }
   ],
   "source": [
    "\n",
    "#updating varuable\n",
    "\n",
    "current_age = 30\n",
    "\n",
    "# current_age = current_age + 1 #this updates current_age value\n",
    "\n",
    "#update operators\n",
    "\n",
    "current_age += 1 #increment age\n",
    "\n",
    "price_of_gas = 2.15\n",
    "\n",
    "#gas goes up by 20 cents\n",
    "\n",
    "price_of_gas += 0.2\n",
    "\n",
    "print(price_of_gas)"
   ]
  }
 ],
 "metadata": {
  "interpreter": {
   "hash": "fac5eb9e4c1bf8b5dba41ad94bc46760d99cc63e3964ba71c79c8f315d006be8"
  },
  "kernelspec": {
   "display_name": "Python 3.10.4 64-bit (windows store)",
   "language": "python",
   "name": "python3"
  },
  "language_info": {
   "codemirror_mode": {
    "name": "ipython",
    "version": 3
   },
   "file_extension": ".py",
   "mimetype": "text/x-python",
   "name": "python",
   "nbconvert_exporter": "python",
   "pygments_lexer": "ipython3",
   "version": "3.10.5"
  },
  "orig_nbformat": 4
 },
 "nbformat": 4,
 "nbformat_minor": 2
}

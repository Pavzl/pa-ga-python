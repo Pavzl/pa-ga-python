{
 "cells": [
  {
   "cell_type": "code",
   "execution_count": 33,
   "metadata": {},
   "outputs": [
    {
     "name": "stdout",
     "output_type": "stream",
     "text": [
      "{'name': 'John'}\n",
      "[{'name': 'Pavel', 'age': 24, 'address': 'Toronto', 'pet': {'type': 'Dog', 'name': 'Billy', 'age': '2'}}, {'name': 'Enzo', 'age': 'VV', 'address': 'Toronto'}, {'name': 'Sanjeev', 'age': 'FF', 'address': 'Toronto'}, {'name': 'Ella', 'age': 'HH', 'address': 'Toronto'}, {'name': 'Son', 'age': 'JJ', 'address': 'Toronto'}, {'name': 'Priscilla', 'age': 'KK', 'address': 'Toronto'}]\n",
      "Billy\n"
     ]
    }
   ],
   "source": [
    "#Dictionaries\n",
    "#a collection of key:value pairs\n",
    "\n",
    "person = {} # an empty dictionary\n",
    "\n",
    "city = dict() # also an empty dictionary\n",
    "\n",
    "car = {\"make\": \"Toyota\", \"model\": \"Corolla\", \"year\": \"2020\"}\n",
    "\n",
    "#add an item to a dictionary\n",
    "\n",
    "person[\"name\"] = \"John\"\n",
    "\n",
    "#add age to person, age is 27\n",
    "\n",
    "#person[\"age\"] = 27\n",
    "\n",
    "print(person)\n",
    "\n",
    "\n",
    "#keys need to be immutable (primitive types - strings, floats, ints, boolean, etc.)\n",
    "\n",
    "#lists and dictionaries CANNOT be keys, because they are mutable\n",
    "\n",
    "#value in dictionaries can be anything\n",
    "\n",
    "#store name, age, and adress of each perosn in the class\n",
    "\n",
    "class_list = []\n",
    "class_list.append({\n",
    "    \"name\": \"Pavel\", \n",
    "    \"age\": 24, \n",
    "    \"address\": \"Toronto\",\n",
    "    \"pet\":{\n",
    "        'type': \"Dog\",\n",
    "        \"name\": \"Billy\",\n",
    "        \"age\": \"2\"\n",
    "    }})\n",
    "\n",
    "#add the rest of the names to the class_list\n",
    "# Enzo, Sanjeev, Ella, Son, Priscilla\n",
    "class_list.append({\"name\": \"Enzo\", \"age\": \"VV\", \"address\": \"Toronto\"})\n",
    "class_list.append({\"name\": \"Sanjeev\", \"age\": \"FF\", \"address\": \"Toronto\"})\n",
    "class_list.append({\"name\": \"Ella\", \"age\": \"HH\", \"address\": \"Toronto\"})\n",
    "class_list.append({\"name\": \"Son\", \"age\": \"JJ\", \"address\": \"Toronto\"})\n",
    "class_list.append({\"name\": \"Priscilla\", \"age\": \"KK\", \"address\": \"Toronto\"})\n",
    "\n",
    "\n",
    "print(class_list)\n",
    "\n",
    "#print the age of the last person in the list\n",
    "\n",
    "#can you print Pavel's pet's name\n",
    "\n",
    "print(class_list[0][\"pet\"][\"name\"])"
   ]
  }
 ],
 "metadata": {
  "interpreter": {
   "hash": "fac5eb9e4c1bf8b5dba41ad94bc46760d99cc63e3964ba71c79c8f315d006be8"
  },
  "kernelspec": {
   "display_name": "Python 3.10.4 64-bit (windows store)",
   "language": "python",
   "name": "python3"
  },
  "language_info": {
   "codemirror_mode": {
    "name": "ipython",
    "version": 3
   },
   "file_extension": ".py",
   "mimetype": "text/x-python",
   "name": "python",
   "nbconvert_exporter": "python",
   "pygments_lexer": "ipython3",
   "version": "3.10.5"
  },
  "orig_nbformat": 4
 },
 "nbformat": 4,
 "nbformat_minor": 2
}

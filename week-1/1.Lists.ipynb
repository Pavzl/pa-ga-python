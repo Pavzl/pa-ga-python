{
 "cells": [
  {
   "cell_type": "code",
   "execution_count": 9,
   "metadata": {},
   "outputs": [
    {
     "name": "stdout",
     "output_type": "stream",
     "text": [
      "['Pavel', 'Enzo', 'Sanjiev', 'Ella', 'Son', 'Priscilla']\n",
      "6\n",
      "['Pavel', 'Enzo', 'Sanjiev', 'Ella', 'Son']\n",
      "Priscilla\n",
      "Enzo\n",
      "['Pavel', 'Enzo', 'Sanjiev', 'Ella', 'Son']\n",
      "3\n"
     ]
    }
   ],
   "source": [
    "# lists are exactly what they sound like\n",
    "\n",
    "#lists are zero indexed\n",
    "\n",
    "\n",
    "names = []  #creates an empty list\n",
    "\n",
    "days_of_week = [\"Mon\", \"Tue\", \"Wed\", \"Thu\", \"Fri\", \"Sat\"]\n",
    "\n",
    "colors = list() #using the list constructor\n",
    "\n",
    "#adding to a list\n",
    "\n",
    "names.append(\"Pavel\") #appehd adds to the end of the list\n",
    "\n",
    "names.append(\"Enzo\")\n",
    "names.append(\"Sanjiev\")\n",
    "names.append(\"Ella\")\n",
    "names.append(\"Son\")\n",
    "names.append(\"Priscilla\")\n",
    "\n",
    "print(names)\n",
    "\n",
    "no_of_names = len(names)\n",
    "\n",
    "print(no_of_names)\n",
    "\n",
    "# insert/pop/remove/count/\n",
    "\n",
    "#remove an item from the end of the list is pop   #by default removes the last digit\n",
    "\n",
    "last_in_list = names.pop()\n",
    "\n",
    "print(names)\n",
    "print(last_in_list)\n",
    "\n",
    "#remove from a specific index\n",
    "\n",
    "second_in_list = names.pop(1)\n",
    "print(second_in_list)\n",
    "\n",
    "#insert at any position\n",
    "\n",
    "names.insert(1, second_in_list)\n",
    "\n",
    "print(names)\n",
    "\n",
    "#count the occurence of an item in a list\n",
    "\n",
    "numbers = [1, 3, 5, 3, 4, 5, 3, -1, 5]\n",
    "\n",
    "number_of_fives = numbers.count(5)\n",
    "\n",
    "print(number_of_fives)\n"
   ]
  }
 ],
 "metadata": {
  "interpreter": {
   "hash": "fac5eb9e4c1bf8b5dba41ad94bc46760d99cc63e3964ba71c79c8f315d006be8"
  },
  "kernelspec": {
   "display_name": "Python 3.10.4 64-bit (windows store)",
   "language": "python",
   "name": "python3"
  },
  "language_info": {
   "codemirror_mode": {
    "name": "ipython",
    "version": 3
   },
   "file_extension": ".py",
   "mimetype": "text/x-python",
   "name": "python",
   "nbconvert_exporter": "python",
   "pygments_lexer": "ipython3",
   "version": "3.10.4"
  },
  "orig_nbformat": 4
 },
 "nbformat": 4,
 "nbformat_minor": 2
}

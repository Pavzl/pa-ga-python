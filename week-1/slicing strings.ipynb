{
 "cells": [
  {
   "cell_type": "code",
   "execution_count": 10,
   "metadata": {},
   "outputs": [
    {
     "data": {
      "text/plain": [
       "'levaP'"
      ]
     },
     "execution_count": 10,
     "metadata": {},
     "output_type": "execute_result"
    }
   ],
   "source": [
    "name = \"Pavel\"\n",
    "\n",
    "\n",
    "len(name)\n",
    "\n",
    "\n",
    "name[0]          #this will slice the name result\n",
    "\n",
    "#code starts from -5 -4 -3 -2 -1 0 1 2 3 4 5\n",
    "\n",
    "name[-2]         #boundary on beginning\n",
    "\n",
    "name[1:4]        #specific boundaries on both siced\n",
    "\n",
    "name[:]          #no boundaries on both cides\n",
    "\n",
    "name[::-1]       #reverse of string\n"
   ]
  },
  {
   "cell_type": "code",
   "execution_count": 23,
   "metadata": {},
   "outputs": [
    {
     "name": "stdout",
     "output_type": "stream",
     "text": [
      "35.5\n"
     ]
    }
   ],
   "source": [
    "price1 = \"20.25$\"\n",
    "price2 = \"15.25$\"\n",
    "#print(price1 + price2) #will be ugly\n",
    "\n",
    "\n",
    "print(float(price1[:-1]) + float(price2[:-1]))\n"
   ]
  },
  {
   "cell_type": "code",
   "execution_count": 11,
   "metadata": {},
   "outputs": [
    {
     "name": "stdout",
     "output_type": "stream",
     "text": [
      "35.5\n"
     ]
    }
   ],
   "source": [
    "price1 = \"$20.25\"  #solve this\n",
    "price2 = \"$15.25\"\n",
    "\n",
    "price1[1:]\n",
    "price2[1:]\n",
    "\n",
    "print(float(price1[1:]) + float(price2[1:]))"
   ]
  }
 ],
 "metadata": {
  "interpreter": {
   "hash": "fac5eb9e4c1bf8b5dba41ad94bc46760d99cc63e3964ba71c79c8f315d006be8"
  },
  "kernelspec": {
   "display_name": "Python 3.10.4 64-bit (windows store)",
   "language": "python",
   "name": "python3"
  },
  "language_info": {
   "codemirror_mode": {
    "name": "ipython",
    "version": 3
   },
   "file_extension": ".py",
   "mimetype": "text/x-python",
   "name": "python",
   "nbconvert_exporter": "python",
   "pygments_lexer": "ipython3",
   "version": "3.10.5"
  },
  "orig_nbformat": 4
 },
 "nbformat": 4,
 "nbformat_minor": 2
}

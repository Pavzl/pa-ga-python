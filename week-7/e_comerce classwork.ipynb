{
 "cells": [
  {
   "cell_type": "code",
   "execution_count": null,
   "metadata": {},
   "outputs": [],
   "source": [
    "# read in the e commerce dataset\n",
    "\n",
    "import pandas as pd\n",
    "\n",
    "data = pd.read_csv(\"e_commerce.csv\")"
   ]
  },
  {
   "cell_type": "code",
   "execution_count": null,
   "metadata": {},
   "outputs": [],
   "source": [
    "data.head(10)"
   ]
  },
  {
   "cell_type": "code",
   "execution_count": null,
   "metadata": {},
   "outputs": [],
   "source": [
    "# add a new column \"Provider\" that displays the email for each provider\n",
    "\n",
    "#      new column        name for it goddamnlama           0 is first part of split, 1 is the second one, here we choose the second line\n",
    "data[\"Provider\"] = data[\"Email\"].apply(lambda x: x.split(\"@\")[1])\n",
    "\n",
    "# def get_email_privuder(email):      this also works but top version is more simple\n",
    "#     return email.split(\"@\")[1]\n",
    "\n",
    "data"
   ]
  },
  {
   "cell_type": "code",
   "execution_count": null,
   "metadata": {},
   "outputs": [],
   "source": [
    "# average purchase price\n",
    "\n",
    "data[\"Purchase Price\"].mean()"
   ]
  },
  {
   "cell_type": "code",
   "execution_count": null,
   "metadata": {},
   "outputs": [],
   "source": [
    "# max purchase price\n",
    "\n",
    "data[\"Purchase Price\"].max()"
   ]
  },
  {
   "cell_type": "code",
   "execution_count": null,
   "metadata": {},
   "outputs": [],
   "source": [
    "# how many people have \"en\" as language of choice for their browser\n",
    "\n",
    "data[\"Language\"].value_counts()\n"
   ]
  },
  {
   "cell_type": "code",
   "execution_count": null,
   "metadata": {},
   "outputs": [],
   "source": [
    "# how many people made the purchase during the AM and how many people did their purchase during PM\n",
    "\n",
    "data.groupby([\"AM or PM\"]).count()"
   ]
  },
  {
   "cell_type": "code",
   "execution_count": null,
   "metadata": {},
   "outputs": [],
   "source": [
    "# what are the most 5 common Job Titles\n",
    "\n",
    "data.groupby([\"Job\"]).count()"
   ]
  },
  {
   "cell_type": "code",
   "execution_count": null,
   "metadata": {},
   "outputs": [],
   "source": [
    "# how many people have American Express as their Card Provider and made a purchase above 95$\n",
    "\n",
    "data.groupby([\"CC Provider\"]).count()"
   ]
  },
  {
   "cell_type": "code",
   "execution_count": null,
   "metadata": {},
   "outputs": [],
   "source": [
    "# How many people have a credit card that expires in 2025\n",
    "\n",
    "#data[\"Exp Year\"] = data[\"CC Exp Date\"].apply(lambda x: x.split(\"/\")[1])\n",
    "#data\n",
    "#exp_2025 = data(([\"Exp Year\"]) == 25)\n",
    "#exp_2025\n",
    "\n",
    "data[data[\"CC Exp Date\"].apply(lambda x: x[3:]) == \"25\"].shape"
   ]
  },
  {
   "cell_type": "code",
   "execution_count": null,
   "metadata": {},
   "outputs": [],
   "source": [
    "# what are the top 5 most popular email providers/hosts\n",
    "\n",
    "data[\"Provider\"].value_counts()\n"
   ]
  },
  {
   "cell_type": "code",
   "execution_count": null,
   "metadata": {},
   "outputs": [],
   "source": [
    "data.groupby([\"Provider\"]).count().sort_values(by=\"Company\", ascending=False)"
   ]
  }
 ],
 "metadata": {
  "kernelspec": {
   "display_name": "Python 3.10.5 64-bit (windows store)",
   "language": "python",
   "name": "python3"
  },
  "language_info": {
   "codemirror_mode": {
    "name": "ipython",
    "version": 3
   },
   "file_extension": ".py",
   "mimetype": "text/x-python",
   "name": "python",
   "nbconvert_exporter": "python",
   "pygments_lexer": "ipython3",
   "version": "3.10.5"
  },
  "orig_nbformat": 4,
  "vscode": {
   "interpreter": {
    "hash": "fac5eb9e4c1bf8b5dba41ad94bc46760d99cc63e3964ba71c79c8f315d006be8"
   }
  }
 },
 "nbformat": 4,
 "nbformat_minor": 2
}

{
 "cells": [
  {
   "cell_type": "code",
   "execution_count": 14,
   "metadata": {},
   "outputs": [
    {
     "name": "stdout",
     "output_type": "stream",
     "text": [
      "7\n"
     ]
    }
   ],
   "source": [
    "# he for loop\n",
    "\n",
    "my_string = \"this is an arbitrary string\"\n",
    "\n",
    "# how would we find the number of vowels in the string\n",
    "\n",
    "vowels = [\"a\", \"e\", \"i\", \"u\", \"A\", \"E\", \"I\", \"U\"]\n",
    "\n",
    "number_of_vowels = 0\n",
    "\n",
    "for letter in my_string:\n",
    "    if letter in vowels:\n",
    "        number_of_vowels += 1\n",
    "print(number_of_vowels)\n"
   ]
  },
  {
   "cell_type": "code",
   "execution_count": 27,
   "metadata": {},
   "outputs": [
    {
     "name": "stdout",
     "output_type": "stream",
     "text": [
      "found a zero\n"
     ]
    }
   ],
   "source": [
    "# check if there is a zero in this list\n",
    "# if yes, print found a zero\n",
    "# if no, print no zeroes\n",
    "nums = [-1, -5, 4, 3, 7, 8, 0, -7]\n",
    "\n",
    "for num in nums:\n",
    "    if num == 0:\n",
    "        print(\"found a zero\")\n",
    "   # else:\n",
    "   #     print(\"no zeroes\")\n",
    "\n",
    "#how do you stop a loop\n"
   ]
  },
  {
   "cell_type": "code",
   "execution_count": 22,
   "metadata": {},
   "outputs": [
    {
     "name": "stdout",
     "output_type": "stream",
     "text": [
      "-13\n"
     ]
    }
   ],
   "source": [
    "# print the first odd number in this list\n",
    "my_nums = [0, 2, -6, -12, -13, 5, 24, 11, 3]\n",
    "\n",
    "for num in my_nums:\n",
    "    if num % 2 == 1:\n",
    "        print(num)\n",
    "        break"
   ]
  },
  {
   "cell_type": "code",
   "execution_count": 37,
   "metadata": {},
   "outputs": [
    {
     "name": "stdout",
     "output_type": "stream",
     "text": [
      "51\n",
      "59\n",
      "-8\n"
     ]
    }
   ],
   "source": [
    "#find the sum of all the numbers in this list\n",
    "temps = [-2, -5, -1, 0, 2, 5, 11, 7, 13, 21]\n",
    "\n",
    "sum_of_temps = 0\n",
    "\n",
    "for num in temps:\n",
    "    sum_of_temps += num\n",
    "\n",
    "print(sum_of_temps) # do not put print inside the loop or else it will give the result for every single addition\n",
    "\n",
    "\n",
    "# calculate two separate total: total of the negative numbers and total of positive numbers\n",
    "positive_total = 0\n",
    "negative_total = 0\n",
    "\n",
    "for num in temps:\n",
    "    if num > 0:\n",
    "        positive_total += num\n",
    "    if num < 0:\n",
    "        negative_total += num\n",
    "\n",
    "print(positive_total)\n",
    "print(negative_total)"
   ]
  },
  {
   "cell_type": "code",
   "execution_count": 52,
   "metadata": {},
   "outputs": [
    {
     "name": "stdout",
     "output_type": "stream",
     "text": [
      "Pythn s mzng\n",
      "Pythn s mzngPythn s mzng\n"
     ]
    }
   ],
   "source": [
    "# create a new string from this string, with all the vowels removed\n",
    "\n",
    "string = \"Python is amazing\" \n",
    "\n",
    "no_vowel_string = \"\"\n",
    "\n",
    "vowels = \"o\", \"i\", \"a\"\n",
    "\n",
    "for letter in string:\n",
    "    if letter in vowels:\n",
    "        None #or pass\n",
    "    else:\n",
    "        no_vowel_string += letter\n",
    "\n",
    "print(no_vowel_string)\n",
    "\n",
    "#other option\n",
    "\n",
    "for letter in string:\n",
    "    if letter not in vowels:\n",
    "        no_vowel_string += letter\n",
    "\n",
    "print(no_vowel_string) #result is weird cuz its all in the same block, the answer is a single linme without vowels"
   ]
  },
  {
   "cell_type": "code",
   "execution_count": 56,
   "metadata": {},
   "outputs": [
    {
     "name": "stdout",
     "output_type": "stream",
     "text": [
      "3\n"
     ]
    }
   ],
   "source": [
    "#for loops using indeces\n",
    "\n",
    "#what if we want to know the index value in a list\n",
    "#         0    1  2  3  4  5  6   7   8\n",
    "values = [-1, -5, 3, 7, 2, 8, 7, -11, 23]\n",
    "#what is the index of the first 7 in the list\n",
    "\n",
    "first_seven_index = -1\n",
    "for idx in range(len(values)):\n",
    "    if values[idx] == 7:\n",
    "        print(idx)\n",
    "        break"
   ]
  },
  {
   "cell_type": "code",
   "execution_count": 66,
   "metadata": {},
   "outputs": [
    {
     "name": "stdout",
     "output_type": "stream",
     "text": [
      "[1, 5]\n"
     ]
    }
   ],
   "source": [
    "# challenge\n",
    "cities = [\"Cancun\", \"Cozumel\", \"New Orleans\", \"Montego Bay\", \"Rio De Janeiro\", \"Cozumel\"]\n",
    "updated_cities = \"\"\n",
    "\n",
    "# find the position of \"Cozumel\" in the list, \n",
    "# replace it with \"Los Cabos\"\n",
    "\n",
    "\n",
    "cozumel_indexes = []\n",
    "\n",
    "for idx in range(len(cities)):\n",
    "    if cities[idx] == \"Cozumel\":\n",
    "        cozumel_indexes.append(idx)\n",
    "\n",
    "\n",
    "\n",
    "\n",
    "print(cozumel_indexes)\n",
    "        \n"
   ]
  }
 ],
 "metadata": {
  "kernelspec": {
   "display_name": "Python 3.10.5 64-bit (windows store)",
   "language": "python",
   "name": "python3"
  },
  "language_info": {
   "codemirror_mode": {
    "name": "ipython",
    "version": 3
   },
   "file_extension": ".py",
   "mimetype": "text/x-python",
   "name": "python",
   "nbconvert_exporter": "python",
   "pygments_lexer": "ipython3",
   "version": "3.10.5"
  },
  "orig_nbformat": 4,
  "vscode": {
   "interpreter": {
    "hash": "fac5eb9e4c1bf8b5dba41ad94bc46760d99cc63e3964ba71c79c8f315d006be8"
   }
  }
 },
 "nbformat": 4,
 "nbformat_minor": 2
}

{
 "cells": [
  {
   "cell_type": "code",
   "execution_count": null,
   "metadata": {},
   "outputs": [],
   "source": [
    "string_1 = 'line'\n",
    "string_2 = 'text'\n",
    "\n",
    "#check if the two are equal, print 'they are the same' if they are\n",
    "#otherwise print 'they are not the same'\n",
    "\n",
    "population = 12000000\n",
    "area = 15000\n",
    "\n",
    "#if the population per area is greater than 20000\n",
    "#print, overpopulated\n",
    "#otherwise print underpopulated\n",
    "\n",
    "#check if a number is less than, greater, or equal to 55\n",
    "number = 55\n"
   ]
  },
  {
   "cell_type": "code",
   "execution_count": null,
   "metadata": {},
   "outputs": [],
   "source": [
    "#Challenge 1\n",
    "#check if a password is valid based on the following rules\n",
    "# at least one letter between[a-z] and at lesat one letter between [A-Z]\n",
    "# at least one number between [0-9]\n",
    "# at leat one character from [$@#]\n",
    "# minimum length of 6 characters\n",
    "# maximum length of 16 characters\n",
    "\n",
    "\n"
   ]
  },
  {
   "cell_type": "code",
   "execution_count": null,
   "metadata": {},
   "outputs": [],
   "source": [
    "#Challenge 2\n",
    "#prompt the user to enter a value between 1 and 10\n",
    "# compare the input with your secret number\n",
    "# if input if less that secret print 'too small'\n",
    "# if input if greater that secret print 'too big'\n",
    "#if its equal, print 'yaaah you are correct', then end\n",
    "\n",
    "secret_number = 7\n",
    "\n",
    "password = int(input(\"type your password here: \"))\n",
    "\n",
    "if password == secret_number:\n",
    "    print(\"yess, you are correct\")\n",
    "elif password < secret_number:\n",
    "    print(\"too small\")\n",
    "else:\n",
    "    print(\"too big\")\n"
   ]
  },
  {
   "cell_type": "code",
   "execution_count": null,
   "metadata": {},
   "outputs": [],
   "source": [
    "#Challenge 3\n",
    "#print the letter grade given a score\n",
    "#80 and above, print 'A'\n",
    "#60 ot 79 print 'B'\n",
    "#50 to 59 print 'C'\n",
    "#otherwise print 'F' (0 - 49)\n",
    "\n",
    "grade = 67\n",
    "if grade >= 80:\n",
    "    print(\"A\")\n",
    "elif grade >= 60:\n",
    "    print(\"B\")\n",
    "elif grade >= 50:\n",
    "    print(\"C\")\n",
    "else:\n",
    "    print(\"F\")\n",
    "\n"
   ]
  },
  {
   "cell_type": "code",
   "execution_count": 2,
   "metadata": {},
   "outputs": [
    {
     "name": "stdout",
     "output_type": "stream",
     "text": [
      "1\n",
      "2\n",
      "fizz\n",
      "4\n",
      "false\n",
      "fizz\n",
      "7\n",
      "8\n",
      "fizz\n",
      "false\n",
      "11\n",
      "fizz\n",
      "13\n",
      "14\n",
      "fizzbuzz\n",
      "16\n",
      "17\n",
      "fizz\n",
      "19\n",
      "false\n",
      "fizz\n",
      "22\n",
      "23\n",
      "fizz\n",
      "false\n",
      "26\n",
      "fizz\n",
      "28\n",
      "29\n",
      "fizzbuzz\n",
      "31\n",
      "32\n",
      "fizz\n",
      "34\n",
      "false\n",
      "fizz\n",
      "37\n",
      "38\n",
      "fizz\n",
      "false\n",
      "41\n",
      "fizz\n",
      "43\n",
      "44\n",
      "fizzbuzz\n",
      "46\n",
      "47\n",
      "fizz\n",
      "49\n",
      "false\n"
     ]
    }
   ],
   "source": [
    "#fizzbuzz\n",
    "# if num is divisible by 3, print \"fizz\"\n",
    "# if num if divisible by 5, print \"false\"\n",
    "# if num is divisible by 15, print \"fizzbuzz\"\n",
    "# otherwise just print the number\n",
    "#hint - the order of your if/elif statements is important\n",
    "\n",
    "for num in range(1, 51):\n",
    "    if num % 15 == 0:\n",
    "        print(\"fizzbuzz\")\n",
    "    elif num % 5 == 0:\n",
    "        print(\"false\")\n",
    "    elif num % 3 == 0:\n",
    "        print(\"fizz\")\n",
    "    else:\n",
    "        print(num)\n",
    "\n",
    "    "
   ]
  }
 ],
 "metadata": {
  "interpreter": {
   "hash": "fac5eb9e4c1bf8b5dba41ad94bc46760d99cc63e3964ba71c79c8f315d006be8"
  },
  "kernelspec": {
   "display_name": "Python 3.10.4 64-bit (windows store)",
   "language": "python",
   "name": "python3"
  },
  "language_info": {
   "codemirror_mode": {
    "name": "ipython",
    "version": 3
   },
   "file_extension": ".py",
   "mimetype": "text/x-python",
   "name": "python",
   "nbconvert_exporter": "python",
   "pygments_lexer": "ipython3",
   "version": "3.10.5"
  },
  "orig_nbformat": 4
 },
 "nbformat": 4,
 "nbformat_minor": 2
}

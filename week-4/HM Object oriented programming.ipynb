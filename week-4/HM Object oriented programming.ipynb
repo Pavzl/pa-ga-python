{
 "cells": [
  {
   "cell_type": "code",
   "execution_count": 1,
   "metadata": {},
   "outputs": [],
   "source": [
    "#Define a class BankAccount\n",
    "#A BankAccount has an id, an account_number, a name (the person who owns the account), and a balance\n",
    "#The opening balance of the account is 0\n",
    "class BankAccount:\n",
    "    def __init__(self, id, account_number, name):\n",
    "        self.id = id\n",
    "        self.account_number = account_number\n",
    "        self.name = name\n",
    "        self.balance = 0.0\n",
    "    \n",
    "    def deposit(self, amount):\n",
    "        self.balance += amount\n",
    "    \n",
    "    def withdraw(self, amount):\n",
    "        if amount < self.balance:\n",
    "            self.balance -= amount\n",
    "\n",
    "def __repr__(self):\n",
    "    return f\"{self.id} {self.account_number} {self.name} {self.balance}\"\n",
    "\n",
    "#Implement deposit and withdraw methods for the BankAccount class\n",
    "#We dont allow overdrafts for our accounts, so remember to check that\n",
    "#You have a sufficient balance when you are doing a withdrawal\n",
    "\n",
    "#Implement the __repr__ method to display the id, account_number, name, and balance for an account"
   ]
  },
  {
   "cell_type": "code",
   "execution_count": 2,
   "metadata": {},
   "outputs": [],
   "source": [
    "#Create ten BankAccount objects and insert them into a list\n",
    "#We want to send out an email to all the bank account holders\n",
    "#Write a function get_eligible_accounts, that takes the list of accounnts\n",
    "# and a target_balance and returns a new list with only those accounts\n",
    "#that have a balance greater than a target_balance\n",
    "\n",
    "import random\n",
    "\n",
    "def get_eligible_accounts(accounts, target_balance):\n",
    "    for account in accounts:\n",
    "        result = []\n",
    "        if account.balance > target_balance:\n",
    "            result.append(account)\n",
    "    return result\n",
    "\n",
    "def generate_accounts(n):\n",
    "    data = []\n",
    "    names = [\"john\", \"henry\", \"carol\", \"lisa\", \"James\", \"Amy\"]\n",
    "\n",
    "    for i in range(n + 1):\n",
    "        # create an account, and add to a list\n",
    "        a = BankAccount(i, i * 100, random.choice(names))\n",
    "        #call deposit with a random amount from 100 to 1000\n",
    "        a.deposit(random.randint(100, 1000))\n",
    "        data.append(a)\n",
    "    \n",
    "    return data"
   ]
  },
  {
   "cell_type": "code",
   "execution_count": 3,
   "metadata": {},
   "outputs": [
    {
     "name": "stdout",
     "output_type": "stream",
     "text": [
      "[<__main__.BankAccount object at 0x0000020B1038CD90>, <__main__.BankAccount object at 0x0000020B1038CF10>, <__main__.BankAccount object at 0x0000020B1038CDC0>, <__main__.BankAccount object at 0x0000020B1038CB80>, <__main__.BankAccount object at 0x0000020B1038C9D0>, <__main__.BankAccount object at 0x0000020B1038C9A0>, <__main__.BankAccount object at 0x0000020B1038C8E0>, <__main__.BankAccount object at 0x0000020B1038C880>, <__main__.BankAccount object at 0x0000020B1038C820>, <__main__.BankAccount object at 0x0000020B1038C7C0>, <__main__.BankAccount object at 0x0000020B1038C910>, <__main__.BankAccount object at 0x0000020B1038C280>, <__main__.BankAccount object at 0x0000020B1038C190>, <__main__.BankAccount object at 0x0000020B1038C100>, <__main__.BankAccount object at 0x0000020B1038C0D0>, <__main__.BankAccount object at 0x0000020B1038C0A0>, <__main__.BankAccount object at 0x0000020B1038C1C0>, <__main__.BankAccount object at 0x0000020B1038C700>, <__main__.BankAccount object at 0x0000020B1038C250>, <__main__.BankAccount object at 0x0000020B1038C6D0>, <__main__.BankAccount object at 0x0000020B1038CA30>]\n"
     ]
    }
   ],
   "source": [
    "account_list = generate_accounts(20)\n",
    "\n",
    "print(account_list)"
   ]
  },
  {
   "cell_type": "code",
   "execution_count": 4,
   "metadata": {},
   "outputs": [
    {
     "name": "stdout",
     "output_type": "stream",
     "text": [
      "[]\n"
     ]
    }
   ],
   "source": [
    "print(get_eligible_accounts(account_list, 600))"
   ]
  },
  {
   "cell_type": "code",
   "execution_count": 5,
   "metadata": {},
   "outputs": [],
   "source": [
    "#Define a class Flight that we will use to track an airline flight\n",
    "# and all the bookings we have\n",
    "#The Fight class has flight_number, origin, destination, capacity\n",
    "\n",
    "class Flight:\n",
    "    def __init__(self, fn, o, d, c):\n",
    "        self.flight_number = fn\n",
    "        self.origin = o\n",
    "        self.destination = d\n",
    "        self.capacity = c\n",
    "        self.bookings = []\n",
    "    \n",
    "    def book(self, customer):\n",
    "        if type(customer) is Customer:\n",
    "            self.bookings.append(customer)\n",
    "            if self.capacity > 0:\n",
    "                self.capacity -= 1\n",
    "        else:\n",
    "            #raise an error\n",
    "            raise TypeError(f\"Invalid type. Expected Customer, got {type(customer)}\")\n",
    "    \n",
    "    def get_bookings(self):\n",
    "        return self.bookings\n",
    "\n",
    "    def __repr__(self):\n",
    "        return f\"Flight #:{self.flight_number} From: {self.origin} To: {self.destination}\"\n",
    "\n",
    "\n",
    "#define a book method that books the flight\n",
    "#the book method must decrese the capacity of the flight \n",
    "#by 1 each time it is called\n",
    "\n",
    "#define the __repr__ method that prints out a flight's number, origin, and destination"
   ]
  },
  {
   "cell_type": "code",
   "execution_count": 6,
   "metadata": {},
   "outputs": [],
   "source": [
    "#Lets build on the airline application.\n",
    "#Create a customer class. Each cutomer has an id, name, age, sex\n",
    "#Modify your book method to accept a customer.\n",
    "#Add this customer to a bookings list in your Flight class (modify your Flight class to have a bookings list)\n",
    "#Make sure that we can only insert a Customer object in our bookings list, and not  other data type\n",
    "#implement a method get_bookings to display the id, name, age, and sex of all\n",
    "#the customers that have been booked on the flight\n",
    "\n",
    "class Customer:\n",
    "    def __init__(self, id, name, age, sex):\n",
    "        self.id = id\n",
    "        self.name = name\n",
    "        self.age = age\n",
    "        self.sex = sex\n",
    "\n",
    "    def __repr__(self):\n",
    "        return f\"{self.id} {self.name} {self.age} {self.sex}\""
   ]
  },
  {
   "cell_type": "code",
   "execution_count": 7,
   "metadata": {},
   "outputs": [
    {
     "name": "stdout",
     "output_type": "stream",
     "text": [
      "<class '__main__.Flight'>\n",
      "100 John Doe 30 M\n"
     ]
    }
   ],
   "source": [
    "#create a flight\n",
    "\n",
    "f = Flight(\"Ac100\", \"YYZ\", \"KIN\", 170)\n",
    "\n",
    "print(Flight)\n",
    "\n",
    "c = Customer(100, \"John Doe\", 30, \"M\")\n",
    "\n",
    "print(c)"
   ]
  },
  {
   "cell_type": "code",
   "execution_count": 8,
   "metadata": {},
   "outputs": [
    {
     "name": "stdout",
     "output_type": "stream",
     "text": [
      "[100 John Doe 30 M]\n"
     ]
    }
   ],
   "source": [
    "f.book(c)\n",
    "\n",
    "print(f.get_bookings())\n",
    "\n",
    "# f.book(\"Dina Doe\")\n",
    "# this code will be an error, its made on purpose\n",
    "# print(f.get_bookings())\n"
   ]
  }
 ],
 "metadata": {
  "kernelspec": {
   "display_name": "Python 3.9.12 ('base')",
   "language": "python",
   "name": "python3"
  },
  "language_info": {
   "codemirror_mode": {
    "name": "ipython",
    "version": 3
   },
   "file_extension": ".py",
   "mimetype": "text/x-python",
   "name": "python",
   "nbconvert_exporter": "python",
   "pygments_lexer": "ipython3",
   "version": "3.9.12"
  },
  "orig_nbformat": 4,
  "vscode": {
   "interpreter": {
    "hash": "b7d258fa581379cc616dd21d18b044438587cad8c2fc6656384f324d1def7e8d"
   }
  }
 },
 "nbformat": 4,
 "nbformat_minor": 2
}

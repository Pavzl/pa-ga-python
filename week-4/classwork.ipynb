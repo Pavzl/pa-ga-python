{
 "cells": [
  {
   "cell_type": "code",
   "execution_count": null,
   "metadata": {},
   "outputs": [],
   "source": []
  }
 ],
 "metadata": {
  "kernelspec": {
   "display_name": "Python 3.10.5 64-bit (windows store)",
   "language": "python",
   "name": "python3"
  },
  "language_info": {
   "name": "python",
   "version": "3.10.5"
  },
  "orig_nbformat": 4,
  "vscode": {
   "interpreter": {
    "hash": "fac5eb9e4c1bf8b5dba41ad94bc46760d99cc63e3964ba71c79c8f315d006be8"
   }
  }
 },
 "nbformat": 4,
 "nbformat_minor": 2
}

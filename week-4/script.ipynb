{
 "cells": [
  {
   "cell_type": "code",
   "execution_count": 1,
   "metadata": {},
   "outputs": [
    {
     "name": "stdout",
     "output_type": "stream",
     "text": [
      "3. this is the third line (or should be in4. A fourth line (actually the second after we wiped the previous one\n"
     ]
    }
   ],
   "source": [
    "#read from a file\n",
    "\n",
    "#open the file/ read file / close the file\n",
    "\n",
    "my_file = open(\"lines.txt\")\n",
    "\n",
    "data = my_file.read()\n",
    "print(data)\n",
    "\n",
    "my_file.close()"
   ]
  },
  {
   "cell_type": "code",
   "execution_count": 2,
   "metadata": {},
   "outputs": [
    {
     "name": "stdout",
     "output_type": "stream",
     "text": [
      "3. this is the third line (or should be in4. A fourth line (actually the second after we wiped the previous one\n"
     ]
    },
    {
     "data": {
      "text/plain": [
       "<function TextIOWrapper.close()>"
      ]
     },
     "execution_count": 2,
     "metadata": {},
     "output_type": "execute_result"
    }
   ],
   "source": [
    "my_line = open(\"lines.txt\")\n",
    "line = my_line.readline()\n",
    "print(line)\n",
    "my_file.close\n"
   ]
  },
  {
   "cell_type": "code",
   "execution_count": 3,
   "metadata": {},
   "outputs": [
    {
     "name": "stdout",
     "output_type": "stream",
     "text": [
      "['3. this is the third line (or should be in4. A fourth line (actually the second after we wiped the previous one']\n"
     ]
    }
   ],
   "source": [
    "#usae with if we dont want to bother about closing the file each time\n",
    "\n",
    "with open(\"lines.txt\") as my_file:\n",
    "    lines = my_file.readlines()\n",
    "    print(lines)"
   ]
  },
  {
   "cell_type": "code",
   "execution_count": 4,
   "metadata": {},
   "outputs": [],
   "source": [
    "# writing to a file\n",
    "with open(\"lines.txt\", \"w\") as lines_file:\n",
    "    lines_file.write(\"3. this is the third line (or should be in\")\n",
    "\n",
    "\n",
    "#using \"w\" will override any previous content\n",
    "#use append to add to existing content\n",
    "\n",
    "with open(\"lines.txt\", \"a\") as lines_file:\n",
    "    lines_file.write(\"4. A fourth line (actually the second after we wiped the previous one)\")\n",
    "    "
   ]
  }
 ],
 "metadata": {
  "kernelspec": {
   "display_name": "Python 3.10.5 64-bit (windows store)",
   "language": "python",
   "name": "python3"
  },
  "language_info": {
   "codemirror_mode": {
    "name": "ipython",
    "version": 3
   },
   "file_extension": ".py",
   "mimetype": "text/x-python",
   "name": "python",
   "nbconvert_exporter": "python",
   "pygments_lexer": "ipython3",
   "version": "3.10.5"
  },
  "orig_nbformat": 4,
  "vscode": {
   "interpreter": {
    "hash": "fac5eb9e4c1bf8b5dba41ad94bc46760d99cc63e3964ba71c79c8f315d006be8"
   }
  }
 },
 "nbformat": 4,
 "nbformat_minor": 2
}

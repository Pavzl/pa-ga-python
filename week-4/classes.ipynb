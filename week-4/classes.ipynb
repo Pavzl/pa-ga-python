{
 "cells": [
  {
   "cell_type": "code",
   "execution_count": null,
   "metadata": {},
   "outputs": [],
   "source": [
    "# 1. Encapsulation\n",
    "\n",
    "class Person:\n",
    "    def __init__(self, name, age):\n",
    "        #used to initialize the data members of the class\n",
    "        self.name = name\n",
    "        self.age = age \n",
    "    \n",
    "    def birthday(self):\n",
    "        self.age += 1\n",
    "\n",
    "# instantiate the Person class\n",
    "\n",
    "p = Person(\"John\", 30)\n",
    "\n",
    "print(p.age)\n",
    "\n",
    "p.birthday()\n",
    "\n",
    "print(p.age)\n",
    "\n",
    "# p is an object that belongs to the Person class\n",
    "# or p is an instance pf the Person class\n",
    "\n",
    "# num = 10\n",
    "\n",
    "# name = \"John\"\n",
    "\n",
    "# has_yacht = False\n",
    "# print(type(num), type(name), type(has_yacht))\n",
    "\n",
    "# print(type(p))"
   ]
  },
  {
   "cell_type": "code",
   "execution_count": 10,
   "metadata": {},
   "outputs": [
    {
     "name": "stdout",
     "output_type": "stream",
     "text": [
      "50\n",
      "<bound method Rectangle.perimeter of <__main__.Rectangle object at 0x0000021F8815FD60>>\n"
     ]
    }
   ],
   "source": [
    "# create a rectangle class\n",
    "# length and width instance variables\n",
    "# area and perimeter methods\n",
    "\n",
    "class Rectangle:\n",
    "    def __init__(self, length, width):\n",
    "        self.length = length\n",
    "        self.width = width\n",
    "\n",
    "    def area(self):\n",
    "        return self.length * self.width\n",
    "\n",
    "    # define the perimeter\n",
    "    def perimeter(self):\n",
    "        return (self.length + self.width) * 2\n",
    "\n",
    "r = Rectangle(10, 5)\n",
    "\n",
    "a = r.area()\n",
    "print(a)\n",
    "\n",
    "p = r.perimeter\n",
    "print(p)"
   ]
  },
  {
   "cell_type": "code",
   "execution_count": 1,
   "metadata": {},
   "outputs": [
    {
     "ename": "AttributeError",
     "evalue": "'Song' object has no attribute 'set_release_year'",
     "output_type": "error",
     "traceback": [
      "\u001b[1;31m---------------------------------------------------------------------------\u001b[0m",
      "\u001b[1;31mAttributeError\u001b[0m                            Traceback (most recent call last)",
      "\u001b[1;32mc:\\Users\\pavel\\pyth-15\\week-4\\classes.ipynb Cell 3'\u001b[0m in \u001b[0;36m<cell line: 26>\u001b[1;34m()\u001b[0m\n\u001b[0;32m     <a href='vscode-notebook-cell:/c%3A/Users/pavel/pyth-15/week-4/classes.ipynb#ch0000002?line=21'>22</a>\u001b[0m s \u001b[39m=\u001b[39m Song(\u001b[39m\"\u001b[39m\u001b[39mLose Yourself\u001b[39m\u001b[39m\"\u001b[39m, \u001b[39m\"\u001b[39m\u001b[39mRap/Hip Hop\u001b[39m\u001b[39m\"\u001b[39m)\n\u001b[0;32m     <a href='vscode-notebook-cell:/c%3A/Users/pavel/pyth-15/week-4/classes.ipynb#ch0000002?line=23'>24</a>\u001b[0m s\u001b[39m.\u001b[39mset_artist(\u001b[39m\"\u001b[39m\u001b[39mEminem\u001b[39m\u001b[39m\"\u001b[39m)\n\u001b[1;32m---> <a href='vscode-notebook-cell:/c%3A/Users/pavel/pyth-15/week-4/classes.ipynb#ch0000002?line=25'>26</a>\u001b[0m s\u001b[39m.\u001b[39;49mset_release_year(\u001b[39m\"\u001b[39m\u001b[39m2002\u001b[39m\u001b[39m\"\u001b[39m)\n\u001b[0;32m     <a href='vscode-notebook-cell:/c%3A/Users/pavel/pyth-15/week-4/classes.ipynb#ch0000002?line=27'>28</a>\u001b[0m \u001b[39mprint\u001b[39m(s)\n",
      "\u001b[1;31mAttributeError\u001b[0m: 'Song' object has no attribute 'set_release_year'"
     ]
    }
   ],
   "source": [
    "# create a Song class\n",
    "# title, genre, artise, year_of_release, rating instance variables\n",
    "\n",
    "class Song:\n",
    "    def __init__(self, title, genre):\n",
    "        self.title = title\n",
    "        self.genre = genre\n",
    "        self.artiste = []\n",
    "        self.year_of_release = \"\"\n",
    "        self.rating = 0.0 \n",
    "    \n",
    "    def set_artist(self, artiste):\n",
    "        self.artiste.append(artiste)\n",
    "\n",
    "    def set_year_of_release(self, year):\n",
    "        self.year_of_release = year\n",
    "\n",
    "    def __repr__(self):\n",
    "        #this will return string\n",
    "        return f\"{self.title}\\t{''.join(self.artiste)}\\t{self.year_of_release}\"\n",
    "\n",
    "s = Song(\"Lose Yourself\", \"Rap/Hip Hop\")\n",
    "\n",
    "s.set_artist(\"Eminem\")\n",
    "\n",
    "s.set_release_year(\"2002\")\n",
    "\n",
    "print(s)\n",
    "\n"
   ]
  },
  {
   "cell_type": "code",
   "execution_count": 2,
   "metadata": {},
   "outputs": [
    {
     "name": "stdout",
     "output_type": "stream",
     "text": [
      "My Faves\n",
      "------------------------------\n",
      "\n",
      "My Faves\n",
      "------------------------------\n",
      "\n"
     ]
    }
   ],
   "source": [
    "#create a Playlist\n",
    "# title, songs (list of Song objects)\n",
    "# add_song, remove_song, change_title, share methods\n",
    "\n",
    "class Playlist:\n",
    "    #define the __init__ method\n",
    "    def __init__(self, title):\n",
    "        self.title = title\n",
    "        self.songs = []\n",
    "    \n",
    "    def add_song(self, song):\n",
    "        if type(song) is Song:\n",
    "            self.songs.append(song)\n",
    "    \n",
    "    def remove_song(self, title):\n",
    "        #search for the index of the song by title\n",
    "        #grab the index, and use it in pop() to remove song from list\n",
    "        song_index = -1\n",
    "        for idx in range(len(self.songs)):\n",
    "            if self.songs[idx].title == title:\n",
    "                self.songs.pop(idx)\n",
    "                #song_index = idx\n",
    "                #break\n",
    "                break\n",
    "\n",
    "        #if song_index >= 0:\n",
    "            \n",
    "        \n",
    "\n",
    "    def __repr__(self):\n",
    "        #display my playlist like this\n",
    "        # Title\n",
    "        # --------------------------------\n",
    "        # 1. <song 1>\n",
    "        # 2. <song 2>\n",
    "        song_string = ''\n",
    "        count = 1\n",
    "        for song in self.songs:\n",
    "            song_string += str(count) + '\\t' + song.__repr__() + '\\n'\n",
    "            count += 1\n",
    "\n",
    "        return f\"{self.title}\\n------------------------------\\n{song_string}\"\n",
    "\n",
    "\n",
    "favourite_songs = Playlist(\"My Faves\")\n",
    "\n",
    "print(favourite_songs)\n",
    "\n",
    "favourite_songs.remove_song(\"Bodak Yellow\")\n",
    "\n",
    "print(favourite_songs)"
   ]
  }
 ],
 "metadata": {
  "kernelspec": {
   "display_name": "Python 3.10.5 64-bit (windows store)",
   "language": "python",
   "name": "python3"
  },
  "language_info": {
   "codemirror_mode": {
    "name": "ipython",
    "version": 3
   },
   "file_extension": ".py",
   "mimetype": "text/x-python",
   "name": "python",
   "nbconvert_exporter": "python",
   "pygments_lexer": "ipython3",
   "version": "3.10.5"
  },
  "orig_nbformat": 4,
  "vscode": {
   "interpreter": {
    "hash": "fac5eb9e4c1bf8b5dba41ad94bc46760d99cc63e3964ba71c79c8f315d006be8"
   }
  }
 },
 "nbformat": 4,
 "nbformat_minor": 2
}

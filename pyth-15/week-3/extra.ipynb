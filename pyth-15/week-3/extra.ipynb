{
 "cells": [
  {
   "cell_type": "code",
   "execution_count": 12,
   "metadata": {},
   "outputs": [
    {
     "name": "stdout",
     "output_type": "stream",
     "text": [
      "<function total_runtime at 0x000002C48122D360>\n"
     ]
    }
   ],
   "source": [
    "playlist = [\n",
    "    {\n",
    "        'title': 'Bodak Yellow',\n",
    "        'genre': 'Pop',\n",
    "        'artist': 'Cardi B',\n",
    "        'year': '2017',\n",
    "        'length': 3.25\n",
    "    },\n",
    "    {\n",
    "        'title': 'Shake it Off',\n",
    "        'genre': 'Pop',\n",
    "        'artist': 'Taylor Swift',\n",
    "        'year': '2016',\n",
    "        'length': 3.15\n",
    "    },\n",
    "    {\n",
    "        'title': 'Through the Night',\n",
    "        'genre': 'Pop',\n",
    "        'artist': 'Travis Scott',\n",
    "        'year': '2016',\n",
    "        'length': 4.50\n",
    "    },\n",
    "    {\n",
    "        'title': 'Likes',\n",
    "        'genre': 'Reggae',\n",
    "        'artist': 'Chronixx',\n",
    "        'year': '2017',\n",
    "        'length': 3.45\n",
    "    },\n",
    "    {\n",
    "        'title': 'From Time',\n",
    "        'genre': 'Pop',\n",
    "        'artist': 'Drake, Jhene Aiko',\n",
    "        'year': '2013',\n",
    "        'length': 2.50\n",
    "    }\n",
    "]\n",
    "\n",
    "\n",
    "# use the playlist to write these functions\n",
    "\n",
    "# 1.write a function that returns a list of the artist names\n",
    "# 2.write a function that returns the title of the longest running song\n",
    "# 3.write a function that returns the total running time of playlists\n",
    "\n",
    "def get_artist_names():\n",
    "    artist_names = []\n",
    "    for name in playlist:\n",
    "        artist_names.append(name['artist'])\n",
    "    return artist_names\n",
    "\n",
    "get_artist_names()\n",
    "\n",
    "\n",
    "def get_longest_song():\n",
    "    longest_run_time = 0\n",
    "    longest_running_song = \"\"\n",
    "    for song in playlist:\n",
    "        if song['length'] > longest_run_time:\n",
    "            longest_run_time = song['length']\n",
    "            longest_running_song = song['title']\n",
    "\n",
    "    return longest_running_song\n",
    "\n",
    "get_longest_song()\n",
    "\n",
    "def total_runtime():\n",
    "    total_time = 0\n",
    "    time = \n",
    "    for total_time in playlist:\n",
    "        total_time + time\n",
    "    return total_time\n",
    "\n",
    "print(total_runtime)\n",
    "\n",
    "\n"
   ]
  },
  {
   "cell_type": "code",
   "execution_count": 5,
   "metadata": {},
   "outputs": [
    {
     "name": "stdout",
     "output_type": "stream",
     "text": [
      "[1, 2, 3]\n",
      "[4, 5, 6]\n",
      "[7, 8, 9, 0]\n",
      "(123) 456-7890\n"
     ]
    }
   ],
   "source": [
    "# Write a function that accepts an array of 10 integers (between 0-9), \n",
    "# that returns a string of those numbers in a way phone numbers looks like\n",
    "\n",
    "# inputs list of integers, size 10 (0 - 9)\n",
    "\n",
    "# output - string in a phone number format: xxx-xxx-xxxx\n",
    "\n",
    "#1. create a variable to store the output\n",
    "#2. iterate over the list of values\n",
    "#2.1 add each item to output string\n",
    "#2.2 add the extra chcracters to the correct positioning in the string\n",
    "\n",
    "def create_phone_number(n):\n",
    "    phone_number = \"(\"\n",
    "    for idx in range(len(n)):\n",
    "        if idx == 3:\n",
    "            phone_number += \") \"\n",
    "        if idx == 6:\n",
    "            phone_number += \"-\"\n",
    "        phone_number += str(n[idx])\n",
    "    print(\"\".join(n[0:3]))\n",
    "    print(n[3:6])\n",
    "    print(n[6:])\n",
    "\n",
    "\n",
    "    return phone_number\n",
    "\n",
    "print(create_phone_number([1, 2, 3, 4, 5, 6, 7, 8, 9, 0]))\n",
    "\n"
   ]
  }
 ],
 "metadata": {
  "kernelspec": {
   "display_name": "Python 3.10.5 64-bit (windows store)",
   "language": "python",
   "name": "python3"
  },
  "language_info": {
   "codemirror_mode": {
    "name": "ipython",
    "version": 3
   },
   "file_extension": ".py",
   "mimetype": "text/x-python",
   "name": "python",
   "nbconvert_exporter": "python",
   "pygments_lexer": "ipython3",
   "version": "3.10.5"
  },
  "orig_nbformat": 4,
  "vscode": {
   "interpreter": {
    "hash": "fac5eb9e4c1bf8b5dba41ad94bc46760d99cc63e3964ba71c79c8f315d006be8"
   }
  }
 },
 "nbformat": 4,
 "nbformat_minor": 2
}

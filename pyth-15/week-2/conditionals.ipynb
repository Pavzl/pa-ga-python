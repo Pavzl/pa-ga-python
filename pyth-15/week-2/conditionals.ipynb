{
 "cells": [
  {
   "cell_type": "code",
   "execution_count": null,
   "metadata": {},
   "outputs": [],
   "source": [
    "#Truthy vs Falsey\n",
    "\n",
    "# some values are inherently true or false\n",
    "\n",
    "#The value 0 is falsey\n",
    "#any positive integer is Truthy\n",
    "\n",
    "#the empty string is Falsey"
   ]
  },
  {
   "cell_type": "code",
   "execution_count": null,
   "metadata": {},
   "outputs": [],
   "source": [
    "#For conditionals, we use comparison operators\n",
    "\n",
    "# >\n",
    "# <\n",
    "# >= greater than or equal\n",
    "# <= less than or equal\n",
    "# == equality\n",
    "# != not equal"
   ]
  },
  {
   "cell_type": "code",
   "execution_count": 14,
   "metadata": {},
   "outputs": [
    {
     "name": "stdout",
     "output_type": "stream",
     "text": [
      "not eligible to vote\n",
      "Lets do something else\n",
      "fun stuf woohoo\n"
     ]
    }
   ],
   "source": [
    "age = 17\n",
    "\n",
    "if age >= 18:\n",
    "    print(\"eligible to vote\")\n",
    "else:\n",
    "    print(\"not eligible to vote\")\n",
    "\n",
    "\n",
    "#print \"too far\" if distance between city_one and city_two is greater than 10\n",
    "city_one = 45\n",
    "city_two = 56\n",
    "\n",
    "distance = city_one - city_two\n",
    "\n",
    "if distance > 10:\n",
    "    print(\"too far\")\n",
    "\n",
    "#else\n",
    "day_of_the_week = \"Tue\"\n",
    "#print \"good day for python\" if the day of week is Mon\n",
    "#otherwise print\n",
    "\n",
    "if day_of_the_week == \"Mon\":\n",
    "    print(\"It's a good day for Python\")\n",
    "else:\n",
    "    print(\"Lets do something else\")\n",
    "\n",
    "\n",
    "#multiple options\n",
    "#Mon - \"if else\"\n",
    "#Wed - \"loops\"\n",
    "#Fri - \"homework\"\n",
    "#any other day - \"Fun stuf woohoo\"\n",
    "\n",
    "day_of_the_week = \"\"\n",
    "\n",
    "if day_of_the_week == \"Mon\":\n",
    "    print(\"if else\")\n",
    "elif day_of_the_week == \"Wed\":\n",
    "    print(\"loops\")\n",
    "elif day_of_the_week == \"Fri\":\n",
    "    print(\"homework\")\n",
    "else:\n",
    "    print(\"fun stuf woohoo\")\n",
    "\n"
   ]
  },
  {
   "cell_type": "code",
   "execution_count": 16,
   "metadata": {},
   "outputs": [
    {
     "name": "stdout",
     "output_type": "stream",
     "text": [
      "None\n"
     ]
    }
   ],
   "source": [
    "#compound statemtnt in our if\n",
    "\n",
    "#if it is a Monday and itis raining stay inside\n",
    "day_of_the_week = \"Mon\"\n",
    "weather = \"sunny\"\n",
    "action = None\n",
    "if day_of_the_week == \"Mon\" and weather == \"rainy\":\n",
    "    action = \"stay inside\"\n",
    "\n",
    "print(action)"
   ]
  },
  {
   "cell_type": "code",
   "execution_count": 20,
   "metadata": {},
   "outputs": [
    {
     "name": "stdout",
     "output_type": "stream",
     "text": [
      "No vowel\n",
      "No vowel\n"
     ]
    }
   ],
   "source": [
    "# check if a character is a vowel\n",
    "# что такое вовел\n",
    "letter_one = \"a\" #true\n",
    "letter_two = \"i\" #true\n",
    "letter_three = \"x\" #false\n",
    "letter_four = \"u\" #true\n",
    "\n",
    "test = letter_three\n",
    "\n",
    "if test == \"a\" or test == \"e\" or test == \"i\" or test == \"o\" or test ==\"u\":\n",
    "    print(\"It is a vowel\")\n",
    "else:\n",
    "    print(\"No vowel\")\n",
    "\n",
    "\n",
    "vowels = \"aeiou\"\n",
    "\n",
    "if test in vowels:\n",
    "    print(\"It is a vowel\")\n",
    "else:\n",
    "    print(\"No vowel\")\n",
    "\n"
   ]
  },
  {
   "cell_type": "code",
   "execution_count": 1,
   "metadata": {},
   "outputs": [
    {
     "name": "stdout",
     "output_type": "stream",
     "text": [
      "kuk\n"
     ]
    }
   ],
   "source": [
    "#user input from keyboard\n",
    "name = input(\"Type your name here: \")\n",
    "print(name)"
   ]
  },
  {
   "cell_type": "code",
   "execution_count": null,
   "metadata": {},
   "outputs": [],
   "source": [
    "#remember that all input is a str"
   ]
  }
 ],
 "metadata": {
  "interpreter": {
   "hash": "fac5eb9e4c1bf8b5dba41ad94bc46760d99cc63e3964ba71c79c8f315d006be8"
  },
  "kernelspec": {
   "display_name": "Python 3.10.4 64-bit (windows store)",
   "language": "python",
   "name": "python3"
  },
  "language_info": {
   "codemirror_mode": {
    "name": "ipython",
    "version": 3
   },
   "file_extension": ".py",
   "mimetype": "text/x-python",
   "name": "python",
   "nbconvert_exporter": "python",
   "pygments_lexer": "ipython3",
   "version": "3.10.5"
  },
  "orig_nbformat": 4
 },
 "nbformat": 4,
 "nbformat_minor": 2
}

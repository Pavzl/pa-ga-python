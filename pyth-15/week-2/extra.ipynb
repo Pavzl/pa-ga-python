{
 "cells": [
  {
   "cell_type": "code",
   "execution_count": 20,
   "metadata": {},
   "outputs": [
    {
     "name": "stdout",
     "output_type": "stream",
     "text": [
      "381.5\n"
     ]
    }
   ],
   "source": [
    "import csv\n",
    "\n",
    "total_spent = 0\n",
    "\n",
    "with open(\"uber_eats.csv\") as data_file:\n",
    "    data = csv.reader(data_file)\n",
    "    for row in data:\n",
    "        if row[2] != \"price\":\n",
    "            total_spent += float(row[2])\n",
    "\n",
    "print(total_spent)\n",
    "        \n",
    "        \n",
    "        "
   ]
  }
 ],
 "metadata": {
  "kernelspec": {
   "display_name": "Python 3.10.5 64-bit (windows store)",
   "language": "python",
   "name": "python3"
  },
  "language_info": {
   "codemirror_mode": {
    "name": "ipython",
    "version": 3
   },
   "file_extension": ".py",
   "mimetype": "text/x-python",
   "name": "python",
   "nbconvert_exporter": "python",
   "pygments_lexer": "ipython3",
   "version": "3.10.5"
  },
  "orig_nbformat": 4,
  "vscode": {
   "interpreter": {
    "hash": "fac5eb9e4c1bf8b5dba41ad94bc46760d99cc63e3964ba71c79c8f315d006be8"
   }
  }
 },
 "nbformat": 4,
 "nbformat_minor": 2
}

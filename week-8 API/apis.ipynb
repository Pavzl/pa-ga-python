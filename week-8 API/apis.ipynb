{
 "cells": [
  {
   "cell_type": "code",
   "execution_count": 2,
   "metadata": {},
   "outputs": [],
   "source": [
    "import requests\n",
    "\n",
    "data = requests.get(\"https://statsapi.web.nhl.com/api/v1/teams\")"
   ]
  },
  {
   "cell_type": "code",
   "execution_count": 7,
   "metadata": {},
   "outputs": [],
   "source": [
    "teams_data = data.json()"
   ]
  },
  {
   "cell_type": "code",
   "execution_count": 10,
   "metadata": {},
   "outputs": [
    {
     "data": {
      "text/plain": [
       "{'id': 1,\n",
       " 'name': 'New Jersey Devils',\n",
       " 'link': '/api/v1/teams/1',\n",
       " 'venue': {'name': 'Prudential Center',\n",
       "  'link': '/api/v1/venues/null',\n",
       "  'city': 'Newark',\n",
       "  'timeZone': {'id': 'America/New_York', 'offset': -4, 'tz': 'EDT'}},\n",
       " 'abbreviation': 'NJD',\n",
       " 'teamName': 'Devils',\n",
       " 'locationName': 'New Jersey',\n",
       " 'firstYearOfPlay': '1982',\n",
       " 'division': {'id': 18,\n",
       "  'name': 'Metropolitan',\n",
       "  'nameShort': 'Metro',\n",
       "  'link': '/api/v1/divisions/18',\n",
       "  'abbreviation': 'M'},\n",
       " 'conference': {'id': 6, 'name': 'Eastern', 'link': '/api/v1/conferences/6'},\n",
       " 'franchise': {'franchiseId': 23,\n",
       "  'teamName': 'Devils',\n",
       "  'link': '/api/v1/franchises/23'},\n",
       " 'shortName': 'New Jersey',\n",
       " 'officialSiteUrl': 'http://www.newjerseydevils.com/',\n",
       " 'franchiseId': 23,\n",
       " 'active': True}"
      ]
     },
     "execution_count": 10,
     "metadata": {},
     "output_type": "execute_result"
    }
   ],
   "source": [
    "teams_data[\"teams\"][0]"
   ]
  },
  {
   "cell_type": "code",
   "execution_count": 11,
   "metadata": {},
   "outputs": [
    {
     "name": "stdout",
     "output_type": "stream",
     "text": [
      "32\n"
     ]
    }
   ],
   "source": [
    "# how many teams are there\n",
    "print(len(teams_data[\"teams\"]))"
   ]
  },
  {
   "cell_type": "code",
   "execution_count": 12,
   "metadata": {},
   "outputs": [
    {
     "name": "stdout",
     "output_type": "stream",
     "text": [
      "<class 'dict'>\n"
     ]
    }
   ],
   "source": [
    "# what is a class of teams\n",
    "\n",
    "print(type(teams_data[\"teams\"][0]))"
   ]
  },
  {
   "cell_type": "code",
   "execution_count": 20,
   "metadata": {},
   "outputs": [
    {
     "name": "stdout",
     "output_type": "stream",
     "text": [
      "New Jersey Devils\n",
      "New York Islanders\n",
      "New York Rangers\n",
      "Philadelphia Flyers\n",
      "Pittsburgh Penguins\n",
      "Boston Bruins\n",
      "Buffalo Sabres\n",
      "Montréal Canadiens\n",
      "Ottawa Senators\n",
      "Toronto Maple Leafs\n",
      "Carolina Hurricanes\n",
      "Florida Panthers\n",
      "Tampa Bay Lightning\n",
      "Washington Capitals\n",
      "Chicago Blackhawks\n",
      "Detroit Red Wings\n",
      "Nashville Predators\n",
      "St. Louis Blues\n",
      "Calgary Flames\n",
      "Colorado Avalanche\n",
      "Edmonton Oilers\n",
      "Vancouver Canucks\n",
      "Anaheim Ducks\n",
      "Dallas Stars\n",
      "Los Angeles Kings\n",
      "San Jose Sharks\n",
      "Columbus Blue Jackets\n",
      "Minnesota Wild\n",
      "Winnipeg Jets\n",
      "Arizona Coyotes\n",
      "Vegas Golden Knights\n",
      "Seattle Kraken\n"
     ]
    }
   ],
   "source": [
    "# print the names of all teams\n",
    "\n",
    "for team in teams_data[\"teams\"]:\n",
    "    print(team[\"name\"])"
   ]
  },
  {
   "cell_type": "code",
   "execution_count": 30,
   "metadata": {},
   "outputs": [
    {
     "name": "stdout",
     "output_type": "stream",
     "text": [
      "16\n"
     ]
    }
   ],
   "source": [
    "# how many teams in the Eastern conference?\n",
    "\n",
    "eastern_count = 0\n",
    "for teams in teams_data[\"teams\"]:\n",
    "    if teams[\"conference\"][\"name\"] == \"Eastern\":\n",
    "        eastern_count += 1\n",
    "\n",
    "print(eastern_count)"
   ]
  },
  {
   "cell_type": "code",
   "execution_count": 31,
   "metadata": {},
   "outputs": [
    {
     "name": "stdout",
     "output_type": "stream",
     "text": [
      "Metropolitan\n",
      "Metropolitan\n",
      "Metropolitan\n",
      "Metropolitan\n",
      "Metropolitan\n",
      "Atlantic\n",
      "Atlantic\n",
      "Atlantic\n",
      "Atlantic\n",
      "Atlantic\n",
      "Metropolitan\n",
      "Atlantic\n",
      "Atlantic\n",
      "Metropolitan\n",
      "Central\n",
      "Atlantic\n",
      "Central\n",
      "Central\n",
      "Pacific\n",
      "Central\n",
      "Pacific\n",
      "Pacific\n",
      "Pacific\n",
      "Central\n",
      "Pacific\n",
      "Pacific\n",
      "Metropolitan\n",
      "Central\n",
      "Central\n",
      "Central\n",
      "Pacific\n",
      "Pacific\n"
     ]
    }
   ],
   "source": [
    "# What are the different divisions\n",
    "\n",
    "for x in teams_data[\"teams\"]:\n",
    "    print(x[\"division\"][\"name\"])"
   ]
  },
  {
   "cell_type": "code",
   "execution_count": 40,
   "metadata": {},
   "outputs": [
    {
     "name": "stdout",
     "output_type": "stream",
     "text": [
      "{'Atlantic', 'Pacific', 'Metropolitan', 'Central'}\n",
      "['Atlantic', 'Pacific', 'Metropolitan', 'Central']\n"
     ]
    }
   ],
   "source": [
    "# Same as the top, but with use of set\n",
    "\n",
    "y = set()\n",
    "\n",
    "for x in teams_data[\"teams\"]:\n",
    "    y.add(x[\"division\"][\"name\"])\n",
    "\n",
    "print(y)\n",
    "\n",
    "# OR\n",
    "\n",
    "division_list = []\n",
    "for team in teams_data[\"teams\"]:\n",
    "    division_list.append(team[\"division\"][\"name\"])\n",
    "\n",
    "# print(division_list)\n",
    "\n",
    "# we can remove the duplicates by converting the list to set\n",
    "\n",
    "no_duplicates = list(set(division_list))\n",
    "\n",
    "print(no_duplicates)"
   ]
  },
  {
   "cell_type": "code",
   "execution_count": 52,
   "metadata": {},
   "outputs": [
    {
     "data": {
      "text/plain": [
       "{'name': 'Montréal Canadiens', 'firstYearOfPlay': '1909'}"
      ]
     },
     "execution_count": 52,
     "metadata": {},
     "output_type": "execute_result"
    }
   ],
   "source": [
    "# what is the oldest team? (the team with the oldest first year of play)\n",
    "\n",
    "# hints\n",
    "# 1. can you pull all the first year of play data into its own list, and sort?\n",
    "# 2. can you put the first year of play, along with the team name in a dictionary, then place all these dictionaries in a list, then sort it?\n",
    "# 3. Remember, you have to use a key to sort a list of dictionaries (lambda)\n",
    "\n",
    "years = []\n",
    "for team in teams_data[\"teams\"]:\n",
    "    my_team = {}\n",
    "    my_team[\"name\"] = team[\"name\"]\n",
    "    my_team[\"firstYearOfPlay\"] = team[\"firstYearOfPlay\"]\n",
    "    years.append(my_team)\n",
    "\n",
    "sorted(years, key=lambda team: team[\"firstYearOfPlay\"])[0]"
   ]
  }
 ],
 "metadata": {
  "kernelspec": {
   "display_name": "Python 3.10.5 64-bit (windows store)",
   "language": "python",
   "name": "python3"
  },
  "language_info": {
   "codemirror_mode": {
    "name": "ipython",
    "version": 3
   },
   "file_extension": ".py",
   "mimetype": "text/x-python",
   "name": "python",
   "nbconvert_exporter": "python",
   "pygments_lexer": "ipython3",
   "version": "3.10.5"
  },
  "orig_nbformat": 4,
  "vscode": {
   "interpreter": {
    "hash": "fac5eb9e4c1bf8b5dba41ad94bc46760d99cc63e3964ba71c79c8f315d006be8"
   }
  }
 },
 "nbformat": 4,
 "nbformat_minor": 2
}

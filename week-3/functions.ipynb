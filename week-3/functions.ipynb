{
 "cells": [
  {
   "cell_type": "code",
   "execution_count": 2,
   "metadata": {},
   "outputs": [
    {
     "name": "stdout",
     "output_type": "stream",
     "text": [
      "Hello\n"
     ]
    }
   ],
   "source": [
    "# functions\n",
    "                  #block of code\n",
    "#def say_hello     (         ):\n",
    "     #function    #parameters\n",
    "\n",
    "def say_hello():\n",
    "    print(\"Hello\")\n",
    "\n",
    "say_hello()  #function sell, this triggers the code"
   ]
  },
  {
   "cell_type": "code",
   "execution_count": 5,
   "metadata": {},
   "outputs": [
    {
     "name": "stdout",
     "output_type": "stream",
     "text": [
      "hey there (name)\n"
     ]
    }
   ],
   "source": [
    "def say_hello_with_name(name):\n",
    "    print(f\"hey there {name}\")\n",
    "\n",
    "say_hello_with_name(\"Pavel\")"
   ]
  },
  {
   "cell_type": "code",
   "execution_count": 7,
   "metadata": {},
   "outputs": [
    {
     "data": {
      "text/plain": [
       "60"
      ]
     },
     "execution_count": 7,
     "metadata": {},
     "output_type": "execute_result"
    }
   ],
   "source": [
    "# functions most often return a value\n",
    "\n",
    "def add_two(num1, num2):\n",
    "    return num1 + num2      #return is more important than print, you can return things to different codes/savefiles/ets\n",
    "\n",
    "add_two(10, 20)\n",
    "\n",
    "def add_two(num1, num2):\n",
    "    return num1 + num2      \n",
    "\n",
    "add_two(add_two(10, 20), 30)"
   ]
  },
  {
   "cell_type": "code",
   "execution_count": 10,
   "metadata": {},
   "outputs": [
    {
     "data": {
      "text/plain": [
       "74"
      ]
     },
     "execution_count": 10,
     "metadata": {},
     "output_type": "execute_result"
    }
   ],
   "source": [
    "# write a function to return the sum of numbers in a list\n",
    "\n",
    "def sum_list(a_list):\n",
    "    total = 0\n",
    "    for num in a_list:\n",
    "        total += num\n",
    "\n",
    "    return total\n",
    "\n",
    "#sum_list([1, 2, 3, 4, 5, 6, 7, 8, 9, 10])\n",
    "\n",
    "numbers = [-1, 5, 8, 7, 24, -11, 15, 27]\n",
    "\n",
    "sum_list(numbers)\n"
   ]
  },
  {
   "cell_type": "code",
   "execution_count": 31,
   "metadata": {},
   "outputs": [
    {
     "name": "stdout",
     "output_type": "stream",
     "text": [
      "False\n",
      "False\n",
      "True\n"
     ]
    }
   ],
   "source": [
    "#write a function that has two parameters: a string, and a character\n",
    "#the function must return true if the character is in the string, False otherwise\n",
    "\n",
    "\n",
    "\n",
    "\n",
    "def find_character(string, char):\n",
    "    if char in string:\n",
    "        return True\n",
    "    return False\n",
    "\n",
    "print(find_character(\"Panama\", \"c\"))\n",
    "\n",
    "print(find_character(\"Panama\", \"p\"))\n",
    "\n",
    "print(find_character(\"Panama\", \"P\"))\n",
    "\n",
    "\n",
    "#functions that return boolean values and often named with \"is\" or \"has\"\n",
    "# as a prefix\n",
    "\n"
   ]
  },
  {
   "cell_type": "code",
   "execution_count": 43,
   "metadata": {},
   "outputs": [
    {
     "data": {
      "text/plain": [
       "[-1, -3]"
      ]
     },
     "execution_count": 43,
     "metadata": {},
     "output_type": "execute_result"
    }
   ],
   "source": [
    "def get_negatives(a_list):\n",
    "    negatives = []\n",
    "    for num in a_list:\n",
    "        if num < 0:\n",
    "            negatives.append(num)\n",
    "    return negatives\n",
    "\n",
    "get_negatives([-1, 0, 5, 9, 3, 7, -3])"
   ]
  },
  {
   "cell_type": "code",
   "execution_count": 47,
   "metadata": {},
   "outputs": [
    {
     "name": "stdout",
     "output_type": "stream",
     "text": [
      "10\n",
      "30\n",
      "60\n"
     ]
    }
   ],
   "source": [
    "# print(10)\n",
    "# print(10, 20)\n",
    "# print(10, 20, 30, 40, 50)\n",
    "\n",
    "#how do we write functions that can accept any number of arguments?\n",
    "\n",
    "#use *args it accepts any number of arguments\n",
    "\n",
    "def add(*args):\n",
    "    total = 0\n",
    "    for item in args:\n",
    "        total += item\n",
    "\n",
    "    return total\n",
    "\n",
    "add()\n",
    "print(add(10))\n",
    "print(add(10, 20))\n",
    "print(add(10, 20, 30))"
   ]
  },
  {
   "cell_type": "code",
   "execution_count": 16,
   "metadata": {},
   "outputs": [
    {
     "name": "stdout",
     "output_type": "stream",
     "text": [
      "a = 10, b = 20\n",
      "x = 0 y = 0\n",
      "x = 5 y = 0\n",
      "x = 10 y = 0\n",
      "x = 0 y = 7\n"
     ]
    }
   ],
   "source": [
    "#positional vs keyword arguments\n",
    "\n",
    "def func(a, b):\n",
    "    print(f\"a = {a}, b = {b}\")\n",
    "\n",
    "func(10, 20)\n",
    "\n",
    "#we can define functions and then call them with arguments in any order, if they are keywords\n",
    "\n",
    "# x and y are keyword arguments. They are also default arguments\n",
    "def bar(x = 0, y = 0):\n",
    "    print(f\"x = {x} y = {y}\")\n",
    "\n",
    "bar(x = 0)\n",
    "bar(x = 5)\n",
    "bar(x = 10)\n",
    "bar(y = 7)"
   ]
  },
  {
   "cell_type": "code",
   "execution_count": 9,
   "metadata": {},
   "outputs": [
    {
     "name": "stdout",
     "output_type": "stream",
     "text": [
      "Pavel>>>>>Golubev>>>>>dude Hello world\n"
     ]
    }
   ],
   "source": [
    "first_name = \"Pavel\"\n",
    "second_name = \"Golubev\"\n",
    "print(first_name, second_name, \"dude\", sep=\">>>>>\", end=\" \")   #end=\" \" ended the line, this is why Hello world didnt show up on a new line\n",
    "print(\"Hello world\")"
   ]
  },
  {
   "cell_type": "code",
   "execution_count": 25,
   "metadata": {},
   "outputs": [
    {
     "name": "stdout",
     "output_type": "stream",
     "text": [
      "Pavel\n",
      "your hobbies are: \n",
      "Dude\n",
      "your hobbies are: \n",
      "city = {'city': 'Toronto', 'age': 30}\n",
      "age = {'city': 'Toronto', 'age': 30}\n"
     ]
    }
   ],
   "source": [
    "# if we have positional, variable args and keyboard args...\n",
    "# positional args MUST go first\n",
    "# variable args next\n",
    "# keyword args last\n",
    "\n",
    "def baz(name, *args, **kwargs):\n",
    "    print(name)\n",
    "    print(\"your hobbies are: \")\n",
    "    hobbies = \"\"\n",
    "    for item in args:\n",
    "        hobbies += item + \", \"\n",
    "    for key in kwargs:\n",
    "        print(f\"{key} = {kwargs}\")\n",
    "\n",
    "baz(\"Pavel\", \"archery\", \"Python?\", \"gaming\")\n",
    "\n",
    "baz(\"Dude\", \"skiing\", city=\"Toronto\", age=30)\n",
    "        "
   ]
  },
  {
   "cell_type": "code",
   "execution_count": 31,
   "metadata": {},
   "outputs": [],
   "source": [
    "# lambda functions\n",
    "# single lines, we dont need to call them repeatedly (only once)\n",
    "\n",
    "def add(a, b):\n",
    "    return a + b\n",
    "\n",
    "# same as lambda function\n",
    "\n",
    "add = lambda a, b : a + b"
   ]
  },
  {
   "cell_type": "code",
   "execution_count": 34,
   "metadata": {},
   "outputs": [
    {
     "name": "stdout",
     "output_type": "stream",
     "text": [
      "[57, 25, 13, 11, 5, 4, 2, 1, 0, -10]\n",
      "['Captain America: Civil War', 'Pirates of the Caribbean']\n",
      "[{'title': 'From Time', 'genre': 'Pop', 'artist': 'Drake, Jhene Aiko', 'year': '2013', 'length': 2.5}, {'title': 'Shake it Off', 'genre': 'Pop', 'artist': 'Taylor Swift', 'year': '2016', 'length': 3.15}, {'title': 'Bodak Yellow', 'genre': 'Pop', 'artist': 'Cardi B', 'year': '2017', 'length': 3.25}, {'title': 'Likes', 'genre': 'Reggae', 'artist': 'Chronixx', 'year': '2017', 'length': 3.45}, {'title': 'Through the Night', 'genre': 'Pop', 'artist': 'Travis Scott', 'year': '2016', 'length': 4.5}]\n"
     ]
    }
   ],
   "source": [
    "playlist = [\n",
    "    {\n",
    "        'title': 'Bodak Yellow',\n",
    "        'genre': 'Pop',\n",
    "        'artist': 'Cardi B',\n",
    "        'year': '2017',\n",
    "        'length': 3.25\n",
    "    },\n",
    "    {\n",
    "        'title': 'Shake it Off',\n",
    "        'genre': 'Pop',\n",
    "        'artist': 'Taylor Swift',\n",
    "        'year': '2016',\n",
    "        'length': 3.15\n",
    "    },\n",
    "    {\n",
    "        'title': 'Through the Night',\n",
    "        'genre': 'Pop',\n",
    "        'artist': 'Travis Scott',\n",
    "        'year': '2016',\n",
    "        'length': 4.50\n",
    "    },\n",
    "    {\n",
    "        'title': 'Likes',\n",
    "        'genre': 'Reggae',\n",
    "        'artist': 'Chronixx',\n",
    "        'year': '2017',\n",
    "        'length': 3.45\n",
    "    },\n",
    "    {\n",
    "        'title': 'From Time',\n",
    "        'genre': 'Pop',\n",
    "        'artist': 'Drake, Jhene Aiko',\n",
    "        'year': '2013',\n",
    "        'length': 2.50\n",
    "    }\n",
    "]\n",
    "\n",
    "#what if we want to sort this playlist\n",
    "\n",
    "nums = [-10, 5, 0, 1, 11, 4, 13, 25, 57, 2]\n",
    "\n",
    "print(sorted(nums, reverse=True))\n",
    "\n",
    "movies = [\"Pirates of the Caribbean\", \"Captain America: Civil War\"]\n",
    "\n",
    "print(sorted(movies))\n",
    "\n",
    "#print(sorted(playlist))\n",
    "\n",
    "print(sorted(playlist, key = lambda song : song[\"length\"]))  # reverse = True will turn this upside down \n",
    "\n",
    "people = [{\"name\": \"A\", \"age\": 25}, {\"name\": \"B\", \"age\": 40}]\n",
    "\n"
   ]
  }
 ],
 "metadata": {
  "kernelspec": {
   "display_name": "Python 3.10.5 64-bit (windows store)",
   "language": "python",
   "name": "python3"
  },
  "language_info": {
   "codemirror_mode": {
    "name": "ipython",
    "version": 3
   },
   "file_extension": ".py",
   "mimetype": "text/x-python",
   "name": "python",
   "nbconvert_exporter": "python",
   "pygments_lexer": "ipython3",
   "version": "3.10.5"
  },
  "orig_nbformat": 4,
  "vscode": {
   "interpreter": {
    "hash": "fac5eb9e4c1bf8b5dba41ad94bc46760d99cc63e3964ba71c79c8f315d006be8"
   }
  }
 },
 "nbformat": 4,
 "nbformat_minor": 2
}

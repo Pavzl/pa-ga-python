{
 "cells": [
  {
   "cell_type": "code",
   "execution_count": 4,
   "metadata": {},
   "outputs": [
    {
     "data": {
      "text/plain": [
       "('Hello there ', 'Pavel')"
      ]
     },
     "execution_count": 4,
     "metadata": {},
     "output_type": "execute_result"
    }
   ],
   "source": [
    "from my_stuff import *    # star is important to import all the items\n",
    "\n",
    "add(10, 20)\n",
    "\n",
    "greet(\"Pavel\")"
   ]
  }
 ],
 "metadata": {
  "kernelspec": {
   "display_name": "Python 3.10.5 64-bit (windows store)",
   "language": "python",
   "name": "python3"
  },
  "language_info": {
   "codemirror_mode": {
    "name": "ipython",
    "version": 3
   },
   "file_extension": ".py",
   "mimetype": "text/x-python",
   "name": "python",
   "nbconvert_exporter": "python",
   "pygments_lexer": "ipython3",
   "version": "3.10.5"
  },
  "orig_nbformat": 4,
  "vscode": {
   "interpreter": {
    "hash": "fac5eb9e4c1bf8b5dba41ad94bc46760d99cc63e3964ba71c79c8f315d006be8"
   }
  }
 },
 "nbformat": 4,
 "nbformat_minor": 2
}

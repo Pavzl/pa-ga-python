{
 "cells": [
  {
   "cell_type": "code",
   "execution_count": null,
   "metadata": {},
   "outputs": [],
   "source": [
    "# 5.1 Functions"
   ]
  },
  {
   "cell_type": "code",
   "execution_count": null,
   "metadata": {},
   "outputs": [],
   "source": [
    "# A. Write a function that accepts one parameter, name\n",
    "#    The function should print the message \"Hello, _____.\" filling in the blank with the name\n",
    "\n",
    "user_name = input(\"your name por favor: \")\n",
    "\n",
    "def get_name():\n",
    "    greeting = \"Hello, \" + user_name\n",
    "    return(greeting)\n",
    "\n",
    "get_name()\n"
   ]
  },
  {
   "cell_type": "code",
   "execution_count": null,
   "metadata": {},
   "outputs": [],
   "source": [
    "# B. Write a function that accepts one parameter, a number\n",
    "#    The function should return true or false depending on whether the number is even\n",
    "\n",
    "enter_number = input(\"give me number\")\n",
    "\n",
    "def even_number():\n",
    "    if int(enter_number) % 2 == 0:\n",
    "        print(True)\n",
    "    else:\n",
    "        print(False)\n",
    "\n",
    "even_number()"
   ]
  },
  {
   "cell_type": "code",
   "execution_count": null,
   "metadata": {},
   "outputs": [],
   "source": [
    "# C. Write a function that accepts one parameter, a list\n",
    "#    The function should return the sum total of all numbers in the list, using a loop\n",
    "\n",
    "list_of_numbers = [1, 4, 6, 8, 0, -99, 34, 22, 8, 1]\n",
    "\n",
    "def get_sum():\n",
    "    total = 0\n",
    "    for num in list_of_numbers:\n",
    "        total += num\n",
    "    return(total)\n",
    "\n",
    "get_sum()"
   ]
  },
  {
   "cell_type": "code",
   "execution_count": null,
   "metadata": {},
   "outputs": [],
   "source": [
    "# D. Write a function that accepts one parameter, a dictionary\n",
    "#    The function should print the message \"Introducing ______ ______, ________!\"\n",
    "#    Fill in the blanks with the \"first_name\", \"last_name\", and \"title\" properties of the dictionary\n",
    "\n",
    "namebook = [\n",
    "    {\"first_name\": \"Pavel\",\n",
    "    \"second_name\": \"Golubev\",\n",
    "    \"title\": \"just a guy studying\"\n",
    "    }\n",
    "]\n",
    "\n",
    "def Pavel_introduction():\n",
    "    for name in namebook:\n",
    "        name = namebook[0][\"first_name\"]\n",
    "    for last in namebook:\n",
    "        last = namebook[0][\"second_name\"]\n",
    "    for title in namebook:\n",
    "        title = namebook[0][\"title\"]  \n",
    "    greeting = \"Introducing \" + name + \" \" + last + \", \" + title + \"!\"\n",
    "    return(greeting)\n",
    "\n",
    "Pavel_introduction()\n",
    "    "
   ]
  },
  {
   "cell_type": "code",
   "execution_count": null,
   "metadata": {},
   "outputs": [],
   "source": [
    "# 5.2 Problem-Solving Functions"
   ]
  },
  {
   "cell_type": "code",
   "execution_count": null,
   "metadata": {},
   "outputs": [],
   "source": [
    "# A. Find the longest string in a given list of strings\n",
    "\n",
    "strings = [\"is there\", \"a code?\", \"do i make one?\", \"Pavel\"]\n",
    "\n",
    "def get_max_str(strings):\n",
    "    return max(strings, key = len)\n",
    "\n",
    "print(get_max_str(strings))"
   ]
  },
  {
   "cell_type": "code",
   "execution_count": null,
   "metadata": {},
   "outputs": [],
   "source": [
    "# B. Determine whether a given list contains a given value\n",
    "\n",
    "if \"Pavel\" in strings:\n",
    "    print(\"Pavel is present in a string\")\n",
    "else:\n",
    "    None"
   ]
  },
  {
   "cell_type": "code",
   "execution_count": null,
   "metadata": {},
   "outputs": [],
   "source": [
    "# C. Count how many times a given string contains a given letter\n",
    "\n",
    "string = \"ahjauhauaja\"\n",
    "\n",
    "string.count(\"a\")"
   ]
  },
  {
   "cell_type": "code",
   "execution_count": null,
   "metadata": {},
   "outputs": [],
   "source": [
    "# D. Find the most common letter in a given string, and use the previous function in your answer\n",
    "\n",
    "most_common = {}\n",
    "\n",
    "for x in string:\n",
    "    if x in string:\n",
    "        most_common[x] += 1\n",
    "max_common_letter = max(most_common, key = most_common.get)\n",
    "\n",
    "print(max_common_letter)"
   ]
  },
  {
   "cell_type": "code",
   "execution_count": null,
   "metadata": {},
   "outputs": [],
   "source": [
    "# E. Find the area of a triangle given its length and height as parameters\n",
    "\n",
    "print(\"Print the base length of triangle: \")\n",
    "base = float(input())\n",
    "print(\"Print the height length triangle: \")\n",
    "height = float(input())\n",
    "area = 0.5 * base * height\n",
    "print(\"Area of triangle equals: \", area)"
   ]
  }
 ],
 "metadata": {
  "kernelspec": {
   "display_name": "Python 3.9.12 ('base')",
   "language": "python",
   "name": "python3"
  },
  "language_info": {
   "codemirror_mode": {
    "name": "ipython",
    "version": 3
   },
   "file_extension": ".py",
   "mimetype": "text/x-python",
   "name": "python",
   "nbconvert_exporter": "python",
   "pygments_lexer": "ipython3",
   "version": "3.9.12"
  },
  "vscode": {
   "interpreter": {
    "hash": "b7d258fa581379cc616dd21d18b044438587cad8c2fc6656384f324d1def7e8d"
   }
  }
 },
 "nbformat": 4,
 "nbformat_minor": 4
}

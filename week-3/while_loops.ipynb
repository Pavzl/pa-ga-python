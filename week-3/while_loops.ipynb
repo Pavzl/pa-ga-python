{
 "cells": [
  {
   "cell_type": "code",
   "execution_count": null,
   "metadata": {},
   "outputs": [],
   "source": [
    "# while loops\n",
    "\n",
    "number = 0\n",
    "while number < 10:\n",
    "    number = number + 1\n",
    "    print(number)\n",
    "\n",
    "# beware of the infinite loops\n",
    "number = 1\n",
    "while number > 0:\n",
    "    number = number +1\n",
    "    print(number)\n"
   ]
  },
  {
   "cell_type": "code",
   "execution_count": 2,
   "metadata": {},
   "outputs": [
    {
     "name": "stdout",
     "output_type": "stream",
     "text": [
      "not correct number, try again\n",
      "not correct number, try again\n",
      "not correct number, try again\n",
      "not correct number, try again\n",
      "not correct number, try again\n",
      "not correct number, try again\n",
      "not correct number, try again\n",
      "not correct number, try again\n",
      "not correct number, try again\n",
      "not correct number, try again\n",
      "you are correct!\n"
     ]
    }
   ],
   "source": [
    "# continiously ask for user input\n",
    "\n",
    "#prompt the user to guess a secret number \n",
    "\n",
    "#use random module to generate a random integer\n",
    "\n",
    "import random\n",
    "\n",
    "secret_number = random.randint(1,10)\n",
    "\n",
    "guess = int(input(\"guess the secret number between 1 and 10: \"))\n",
    "while guess != secret_number:\n",
    "    print(\"not correct number, try again\")\n",
    "    guess = int(input(\"guess the secret number between 1 and 10: \"))\n",
    "\n",
    "print(\"you are correct!\")\n",
    "    "
   ]
  },
  {
   "cell_type": "code",
   "execution_count": 4,
   "metadata": {},
   "outputs": [
    {
     "name": "stdout",
     "output_type": "stream",
     "text": [
      "not correct, try again\n",
      "not correct, try again\n",
      "not correct, try again\n",
      "not correct, try again\n",
      "not correct, try again\n",
      "not correct, try again\n",
      "not correct, try again\n",
      "not correct, try again\n",
      "not correct, try again\n",
      "you are correct!\n"
     ]
    }
   ],
   "source": [
    "# write infinite loop deliberately\n",
    "# #this is an infinite loop\n",
    "\n",
    "secret_number = random.randint(1,10)\n",
    "\n",
    "while True:\n",
    "    guess = int(input(\"guess the secret number between 1 and 10\"))\n",
    "    if guess == secret_number:\n",
    "        print(\"you are correct!\")\n",
    "        break\n",
    "    else:\n",
    "        print(\"not correct, try again\")\n",
    "        "
   ]
  }
 ],
 "metadata": {
  "kernelspec": {
   "display_name": "Python 3.10.5 64-bit (windows store)",
   "language": "python",
   "name": "python3"
  },
  "language_info": {
   "codemirror_mode": {
    "name": "ipython",
    "version": 3
   },
   "file_extension": ".py",
   "mimetype": "text/x-python",
   "name": "python",
   "nbconvert_exporter": "python",
   "pygments_lexer": "ipython3",
   "version": "3.10.5"
  },
  "orig_nbformat": 4,
  "vscode": {
   "interpreter": {
    "hash": "fac5eb9e4c1bf8b5dba41ad94bc46760d99cc63e3964ba71c79c8f315d006be8"
   }
  }
 },
 "nbformat": 4,
 "nbformat_minor": 2
}
